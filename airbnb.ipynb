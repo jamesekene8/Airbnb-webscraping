{
 "cells": [
  {
   "cell_type": "code",
   "execution_count": 1,
   "metadata": {},
   "outputs": [],
   "source": [
    "from bs4 import BeautifulSoup\n",
    "import requests\n",
    "a = 0\n",
    "Abuja = {}"
   ]
  },
  {
   "cell_type": "code",
   "execution_count": 2,
   "metadata": {},
   "outputs": [],
   "source": [
    "for el in range(0,281,20):\n",
    "    airbnb = requests.get(f\"https://www.airbnb.com/s/Abuja/homes?refinement_paths%5B%5D=%2Fhomes&source=structured_search_input_header&search_type=pagination&title_type=NONE&click_referer=t%3ASEE_ALL%7Csid%3Af24fe455-0b46-4321-b475-78df0d6b90a0%7Cst%3ASTAYS_LARGE_AREA_DESTINATION_CAROUSELS&tab_id=home_tab&place_id=ChIJ2S_WTF90ThARK6EOorQXvVM&federated_search_session_id=f3cb88da-f1fa-426f-99b5-a72bc7dd3e99&items_offset={el}&section_offset=3\")\n",
    "    soup = BeautifulSoup(airbnb.text, 'html.parser')\n",
    "    for i in range(20):\n",
    "        a = a + 1\n",
    "        try:\n",
    "            name = soup.find_all('div', class_='_fhph4u')[0].find_all('div', class_='_8ssblpx')[i].find_all('div', class_='_bzh5lkq')[0].text\n",
    "            desc = soup.find_all('div', class_='_fhph4u')[0].find_all('div', class_='_8ssblpx')[i].find_all('div', class_='_kqh46o')[0]\n",
    "            guests = desc.contents[0]\n",
    "            bedrooms = desc.contents[2]\n",
    "            bed = desc.contents[4]\n",
    "            rating = soup.find_all('div', class_='_fhph4u')[0].find_all('div', class_='_8ssblpx')[i].find_all('span', class_='_10fy1f8')[0].text\n",
    "            reviews = soup.find_all('div', class_='_fhph4u')[0].find_all('div', class_='_8ssblpx')[i].find_all('span', class_='_krjbj')[1].text\n",
    "            price = soup.find_all('div', class_='_fhph4u')[0].find_all('div', class_='_8ssblpx')[i].find_all('span', class_='_1p7iugi')[0].text\n",
    "            imageUrl = soup.find_all(\"div\", class_=\"_1szwzht\")[i].find_all('img')[0]['src']\n",
    "            Abuja[a] = list((name, guests, bedrooms, bed, rating, reviews, price, imageUrl))\n",
    "            \n",
    "        except:\n",
    "            continue"
   ]
  },
  {
   "cell_type": "code",
   "execution_count": 5,
   "metadata": {},
   "outputs": [],
   "source": [
    "l = 0\n",
    "Lagos = {}\n",
    "for el in range(0,281,20):\n",
    "    airbnb = requests.get(f\"https://www.airbnb.com/s/Lagos--Nigeria/homes?tab_id=home_tab&refinement_paths%5B%5D=%2Fhomes&source=structured_search_input_header&search_type=pagination&place_id=ChIJwYCC5iqLOxARy9nDZ6OHntw&federated_search_session_id=2bc42c0b-0538-4823-8658-820e936ccb31&items_offset={el}&section_offset=3\")\n",
    "    soup = BeautifulSoup(airbnb.text, 'html.parser')\n",
    "    for i in range(20):\n",
    "        l = l + 1\n",
    "        try:\n",
    "            name = soup.find_all('div', class_='_fhph4u')[0].find_all('div', class_='_8ssblpx')[i].find_all('div', class_='_bzh5lkq')[0].text\n",
    "            desc = soup.find_all('div', class_='_fhph4u')[0].find_all('div', class_='_8ssblpx')[i].find_all('div', class_='_kqh46o')[0]\n",
    "            guests = desc.contents[0]\n",
    "            bedrooms = desc.contents[2]\n",
    "            bed = desc.contents[4]\n",
    "            rating = soup.find_all('div', class_='_fhph4u')[0].find_all('div', class_='_8ssblpx')[i].find_all('span', class_='_10fy1f8')[0].text\n",
    "            reviews = soup.find_all('div', class_='_fhph4u')[0].find_all('div', class_='_8ssblpx')[i].find_all('span', class_='_krjbj')[1].text\n",
    "            price = soup.find_all('div', class_='_fhph4u')[0].find_all('div', class_='_8ssblpx')[i].find_all('span', class_='_1p7iugi')[0].text\n",
    "            imageUrl = soup.find_all(\"div\", class_=\"_1szwzht\")[i].find_all('img')[0]['src']\n",
    "            Lagos[l] = list((name, guests, bedrooms, bed, rating, reviews, price, imageUrl))\n",
    "        except:\n",
    "            continue"
   ]
  },
  {
   "cell_type": "code",
   "execution_count": 6,
   "metadata": {},
   "outputs": [],
   "source": [
    "p = 0\n",
    "Port = {}\n",
    "for el in range(0,181,20):\n",
    "    airbnb = requests.get(f\"https://www.airbnb.com/s/Port-Harcourt--Rivers--Nigeria/homes?tab_id=home_tab&refinement_paths%5B%5D=%2Fhomes&source=structured_search_input_header&search_type=pagination&place_id=ChIJ40gsn6POaRAR2zKIfd0rVlM&federated_search_session_id=7c4c41a2-6000-43ed-b707-300bc5981d9e&items_offset={el}&section_offset=3\")\n",
    "    soup = BeautifulSoup(airbnb.text, 'html.parser')\n",
    "    for i in range(20):\n",
    "        p = p + 1\n",
    "        try:\n",
    "            name = soup.find_all('div', class_='_fhph4u')[0].find_all('div', class_='_8ssblpx')[i].find_all('div', class_='_bzh5lkq')[0].text\n",
    "            desc = soup.find_all('div', class_='_fhph4u')[0].find_all('div', class_='_8ssblpx')[i].find_all('div', class_='_kqh46o')[0]\n",
    "            guests = desc.contents[0]\n",
    "            bedrooms = desc.contents[2]\n",
    "            bed = desc.contents[4]\n",
    "            rating = soup.find_all('div', class_='_fhph4u')[0].find_all('div', class_='_8ssblpx')[i].find_all('span', class_='_10fy1f8')[0].text\n",
    "            reviews = soup.find_all('div', class_='_fhph4u')[0].find_all('div', class_='_8ssblpx')[i].find_all('span', class_='_krjbj')[1].text\n",
    "            price = soup.find_all('div', class_='_fhph4u')[0].find_all('div', class_='_8ssblpx')[i].find_all('span', class_='_1p7iugi')[0].text\n",
    "            imageUrl = soup.find_all(\"div\", class_=\"_1szwzht\")[i].find_all('img')[0]['src']\n",
    "            Port[p] = list((name, guests, bedrooms, bed, rating, reviews, price, imageUrl))\n",
    "        except:\n",
    "            continue"
   ]
  },
  {
   "cell_type": "code",
   "execution_count": 7,
   "metadata": {},
   "outputs": [],
   "source": [
    "import json\n",
    "with open('abuja.json', 'w') as my_json:\n",
    "    json.dump(Abuja, my_json) "
   ]
  },
  {
   "cell_type": "code",
   "execution_count": 8,
   "metadata": {},
   "outputs": [],
   "source": [
    "with open('lagos.json', 'w') as my_json:\n",
    "    json.dump(Lagos, my_json) "
   ]
  },
  {
   "cell_type": "code",
   "execution_count": 9,
   "metadata": {},
   "outputs": [],
   "source": [
    "with open('port.json', 'w') as my_json:\n",
    "    json.dump(Port, my_json)"
   ]
  },
  {
   "cell_type": "code",
   "execution_count": null,
   "metadata": {},
   "outputs": [],
   "source": []
  }
 ],
 "metadata": {
  "kernelspec": {
   "display_name": "Python 3",
   "language": "python",
   "name": "python3"
  },
  "language_info": {
   "codemirror_mode": {
    "name": "ipython",
    "version": 3
   },
   "file_extension": ".py",
   "mimetype": "text/x-python",
   "name": "python",
   "nbconvert_exporter": "python",
   "pygments_lexer": "ipython3",
   "version": "3.7.6"
  }
 },
 "nbformat": 4,
 "nbformat_minor": 4
}
